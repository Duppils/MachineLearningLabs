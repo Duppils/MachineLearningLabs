{
 "cells": [
  {
   "cell_type": "markdown",
   "metadata": {},
   "source": [
    "# Lab 5: Word Counting and Embedding Clustering"
   ]
  },
  {
   "cell_type": "markdown",
   "metadata": {},
   "source": [
    "**Author:** Marcus Klang (Marcus.Klang@cs.lth.se)"
   ]
  },
  {
   "cell_type": "markdown",
   "metadata": {},
   "source": [
    "## Goals:\n",
    " * Learn how to read, transform and process text data with Pyspark\n",
    " * Preprocess and create a suitable dataset for clustering\n",
    " * Use KMeans from sklearn and cluster 10 000 words to 200 clusters\n",
    " * Write a function which displays words nearby\n",
    " \n",
    "## Outline of the lab\n",
    "\n",
    " * You will first solve a few exercises on Spark to learn how to write basic commands.\n",
    " * You will then apply Spark to extract the 10,000 most frequent words in the English Wikipedia.\n",
    " * As this corpus is very large, you will use 1% of it in the lab, the full Wikipedia is available.\n",
    " * You will finally cluster these words into 100 groups using their GloVe100 representation.\n",
    " * As clustering program, you will use KMeans from sklearn."
   ]
  },
  {
   "cell_type": "code",
   "execution_count": 1,
   "metadata": {},
   "outputs": [],
   "source": [
    "# When a cell contains TODO, you shall replace TODO with relevant code."
   ]
  },
  {
   "cell_type": "markdown",
   "metadata": {},
   "source": [
    "**Task 0**: Add 1 to 1"
   ]
  },
  {
   "cell_type": "code",
   "execution_count": 2,
   "metadata": {},
   "outputs": [],
   "source": [
    "#TODO"
   ]
  },
  {
   "cell_type": "markdown",
   "metadata": {},
   "source": [
    "Answer"
   ]
  },
  {
   "cell_type": "code",
   "execution_count": 3,
   "metadata": {},
   "outputs": [
    {
     "data": {
      "text/plain": [
       "2"
      ]
     },
     "execution_count": 3,
     "metadata": {},
     "output_type": "execute_result"
    }
   ],
   "source": [
    "1+1"
   ]
  },
  {
   "cell_type": "markdown",
   "metadata": {},
   "source": [
    "## Spark and Pyspark documentation\n",
    "\n",
    "General documention is available online when you need to look up the parameters of a function:\n",
    " \n",
    " * [Pyspark RDD](https://spark.apache.org/docs/2.4.0/api/python/pyspark.html)\n",
    " * [Pyspark SQL](https://spark.apache.org/docs/2.4.0/api/python/pyspark.sql.html)\n",
    " * [Spark](https://spark.apache.org/docs/2.4.0/)"
   ]
  },
  {
   "cell_type": "markdown",
   "metadata": {},
   "source": [
    "# Part 0: Dependencies"
   ]
  },
  {
   "cell_type": "markdown",
   "metadata": {},
   "source": [
    "Import these packages"
   ]
  },
  {
   "cell_type": "code",
   "execution_count": 4,
   "metadata": {},
   "outputs": [],
   "source": [
    "#!/usr/bin/python3.6\n",
    "import os\n",
    "import sys\n",
    "import numpy as np\n",
    "import matplotlib.pyplot as plt\n",
    "%matplotlib inline"
   ]
  },
  {
   "cell_type": "markdown",
   "metadata": {},
   "source": [
    "## Data"
   ]
  },
  {
   "cell_type": "code",
   "execution_count": 5,
   "metadata": {},
   "outputs": [
    {
     "name": "stdout",
     "output_type": "stream",
     "text": [
      "hej\n"
     ]
    }
   ],
   "source": [
    "GLOVE_6B_100D_PATH=\"/home/lnxturing/School/EDAN95/MachineLearningLabs/corpus/glove.6B.100d.txt\"\n",
    "ENWIKI_1P_PATH=\"/home/lnxturing/School/EDAN95/enwiki_1p/\"\n",
    "print(\"hej\")"
   ]
  },
  {
   "cell_type": "markdown",
   "metadata": {},
   "source": [
    "Copy glove.6B.100d.txt from [Assignment 4](http://cs.lth.se/edan95-applied-machine-learning/lab-programming-assignments/assignment-4/) and set path above\n",
    "\n",
    "**If you are on your own computer:**\n",
    "\n",
    "1. Download the 1% Enwiki Paragraph dataset from http://fileadmin.cs.lth.se/cs/Education/EDAN95/Data/enwiki_1p.zip \n",
    "2. Extract relative to notebook\n",
    "3. Make sure the relative directory contains \"part-*\" files."
   ]
  },
  {
   "cell_type": "markdown",
   "metadata": {},
   "source": [
    "## Spark"
   ]
  },
  {
   "cell_type": "markdown",
   "metadata": {},
   "source": [
    "If you are using the computers in the lab rooms then everything is ready.\n",
    "\n",
    "**On your own computer:**\n",
    "\n",
    "These instructions are given in the hope that they are useful and help get you started, support will be minimal to none:\n",
    "\n",
    " 1. [Download Spark (Mirror choser - get real link from this page)](https://www.apache.org/dyn/closer.lua/spark/spark-2.4.0/spark-2.4.0-bin-hadoop2.7.tgz), link from [https://spark.apache.org/]\n",
    " 2. Unpack this directory, copy the path to this directory\n",
    " 3. Make sure you have the [Java 8 **JDK**](https://www.oracle.com/technetwork/java/javase/downloads/jdk8-downloads-2133151.html) installed and it is the default java. **Spark does not support Java 9+**, if your default java is 9+, then you have to set and export the environment variable JAVA_HOME with the proper location of your java 8 installation before starting your notebook/lab server, which implies that you need to restart the server running this notebook.\n",
    " 4. Modify SPARK_HOME in the cell below with the copied path and run it."
   ]
  },
  {
   "cell_type": "code",
   "execution_count": 6,
   "metadata": {},
   "outputs": [],
   "source": [
    "# This path should point to a location which contains a bin and python directory\n",
    "SPARK_HOME=\"/home/lnxturing/School/EDAN95/spark-2.4.0-bin-hadoop2.7/\"\n",
    "os.environ[\"SPARK_HOME\"] = SPARK_HOME\n",
    "sys.path.append(os.path.join(SPARK_HOME, \"python\"))\n",
    "sys.path.append(os.path.join(SPARK_HOME, \"python\", \"lib\", \"py4j-0.10.7-src.zip\"))"
   ]
  },
  {
   "cell_type": "markdown",
   "metadata": {},
   "source": [
    "# Part 1: Pyspark RDD"
   ]
  },
  {
   "cell_type": "code",
   "execution_count": 7,
   "metadata": {},
   "outputs": [],
   "source": [
    "from pyspark import SparkContext   # The main context\n",
    "from pyspark.sql import SQLContext # The SQL CONTEXT"
   ]
  },
  {
   "cell_type": "markdown",
   "metadata": {},
   "source": [
    "This utility function will resolve a correct path for Spark"
   ]
  },
  {
   "cell_type": "code",
   "execution_count": 8,
   "metadata": {},
   "outputs": [],
   "source": [
    "def pyspark_path(filepath):\n",
    "    return \"file:%s\" % os.path.abspath(filepath)"
   ]
  },
  {
   "cell_type": "markdown",
   "metadata": {},
   "source": [
    "We will now create a ```SparkContext``` for testing purposes i.e. run it locally and use all available cores.\n",
    "\n",
    "```local[*]```, the ```*``` defines the number of cores to use (* = all, 1 = one core, 4 = four cores, etc.).\n",
    "\n",
    "This will create the Py4j bridge, and start a background JVM which runs the Spark Engine."
   ]
  },
  {
   "cell_type": "code",
   "execution_count": 9,
   "metadata": {
    "scrolled": true
   },
   "outputs": [],
   "source": [
    "sc = SparkContext(master=\"local[*]\", appName=\"Lab 5\")"
   ]
  },
  {
   "cell_type": "markdown",
   "metadata": {},
   "source": [
    "The ```sc``` variable will provide a link to the driver webpage where status information can be found, along with all settings and more."
   ]
  },
  {
   "cell_type": "code",
   "execution_count": 10,
   "metadata": {},
   "outputs": [
    {
     "data": {
      "text/html": [
       "\n",
       "        <div>\n",
       "            <p><b>SparkContext</b></p>\n",
       "\n",
       "            <p><a href=\"http://10.1.180.235:4040\">Spark UI</a></p>\n",
       "\n",
       "            <dl>\n",
       "              <dt>Version</dt>\n",
       "                <dd><code>v2.4.0</code></dd>\n",
       "              <dt>Master</dt>\n",
       "                <dd><code>local[*]</code></dd>\n",
       "              <dt>AppName</dt>\n",
       "                <dd><code>Lab 5</code></dd>\n",
       "            </dl>\n",
       "        </div>\n",
       "        "
      ],
      "text/plain": [
       "<SparkContext master=local[*] appName=Lab 5>"
      ]
     },
     "execution_count": 10,
     "metadata": {},
     "output_type": "execute_result"
    }
   ],
   "source": [
    "sc"
   ]
  },
  {
   "cell_type": "markdown",
   "metadata": {},
   "source": [
    "## Part 1.1 Tiny steps with Pyspark"
   ]
  },
  {
   "cell_type": "markdown",
   "metadata": {},
   "source": [
    "The objective of this section is to get you familiar with different transformations and actions.\n",
    "\n",
    "All tasks will contain links to the function to use when a new concepts are introduced, when no links exists you are expected to use suitable functions."
   ]
  },
  {
   "cell_type": "markdown",
   "metadata": {},
   "source": [
    "Create some dummy data, 100 000 elements from 0 to 99 999, use 8 partitions"
   ]
  },
  {
   "cell_type": "code",
   "execution_count": 11,
   "metadata": {},
   "outputs": [],
   "source": [
    "dataset = sc.parallelize(list(range(100000)), 8)"
   ]
  },
  {
   "cell_type": "markdown",
   "metadata": {},
   "source": [
    "**Task 1:** Print the 5 first elements, use the [take](https://spark.apache.org/docs/2.4.0/api/python/pyspark.html#pyspark.RDD.take) function"
   ]
  },
  {
   "cell_type": "code",
   "execution_count": 12,
   "metadata": {},
   "outputs": [
    {
     "name": "stdout",
     "output_type": "stream",
     "text": [
      "0\n",
      "1\n",
      "2\n",
      "3\n",
      "4\n"
     ]
    }
   ],
   "source": [
    "taken = dataset.take(5)\n",
    "for t in taken:\n",
    "    print(t)"
   ]
  },
  {
   "cell_type": "markdown",
   "metadata": {},
   "source": [
    "**Task 2:** Use [reduce](https://spark.apache.org/docs/2.4.0/api/python/pyspark.html#pyspark.RDD.reduce) to sum all values"
   ]
  },
  {
   "cell_type": "code",
   "execution_count": 13,
   "metadata": {},
   "outputs": [
    {
     "name": "stdout",
     "output_type": "stream",
     "text": [
      "4999950000\n"
     ]
    }
   ],
   "source": [
    "from operator import add\n",
    "print(dataset.reduce(add))"
   ]
  },
  {
   "cell_type": "markdown",
   "metadata": {},
   "source": [
    "**Task 3:** Sum the values using the [sum](https://spark.apache.org/docs/2.4.0/api/python/pyspark.html#pyspark.RDD.sum) function"
   ]
  },
  {
   "cell_type": "code",
   "execution_count": 14,
   "metadata": {},
   "outputs": [
    {
     "name": "stdout",
     "output_type": "stream",
     "text": [
      "4999950000\n"
     ]
    }
   ],
   "source": [
    "print(dataset.sum())"
   ]
  },
  {
   "cell_type": "markdown",
   "metadata": {},
   "source": [
    "**Task 4:** Compute the mean using the [mean](https://spark.apache.org/docs/2.4.0/api/python/pyspark.html#pyspark.RDD.mean) function"
   ]
  },
  {
   "cell_type": "code",
   "execution_count": 15,
   "metadata": {},
   "outputs": [
    {
     "name": "stdout",
     "output_type": "stream",
     "text": [
      "49999.5\n"
     ]
    }
   ],
   "source": [
    "print(dataset.mean())"
   ]
  },
  {
   "cell_type": "markdown",
   "metadata": {},
   "source": [
    "**Task 5:** Add 15 to all elements using [map](https://spark.apache.org/docs/2.4.0/api/python/pyspark.html#pyspark.RDD.map), take the first 5 elements"
   ]
  },
  {
   "cell_type": "code",
   "execution_count": 16,
   "metadata": {},
   "outputs": [
    {
     "name": "stdout",
     "output_type": "stream",
     "text": [
      "[15]\n"
     ]
    }
   ],
   "source": [
    "neoDataset = dataset.map(lambda x: x+15, False)\n",
    "print(neoDataset.take(1))"
   ]
  },
  {
   "cell_type": "markdown",
   "metadata": {},
   "source": [
    "**Task 6:** Repeat task 5 but use a function instead of a lambda"
   ]
  },
  {
   "cell_type": "code",
   "execution_count": 17,
   "metadata": {},
   "outputs": [
    {
     "name": "stdout",
     "output_type": "stream",
     "text": [
      "[15]\n"
     ]
    }
   ],
   "source": [
    "def transform(x):\n",
    "    return x+15\n",
    "\n",
    "neoDataset = dataset.map(transform)\n",
    "print(neoDataset.take(1))"
   ]
  },
  {
   "cell_type": "markdown",
   "metadata": {},
   "source": [
    "**Task 7:** Filter out odd numbers (divisble by 2 is ```x % 2 == 0```) and compute the mean"
   ]
  },
  {
   "cell_type": "code",
   "execution_count": 18,
   "metadata": {},
   "outputs": [
    {
     "name": "stdout",
     "output_type": "stream",
     "text": [
      "49999.0\n"
     ]
    }
   ],
   "source": [
    "neoDataset = dataset.filter(lambda x: x%2 == 0)\n",
    "print(neoDataset.mean())"
   ]
  },
  {
   "cell_type": "markdown",
   "metadata": {},
   "source": [
    "**Task 8:** Find all odd numbers between 10 000 and 50 000 (inclusive), add 134, find all divisible by 17, [collect](https://spark.apache.org/docs/2.4.0/api/python/pyspark.html#pyspark.RDD.collect) and [count](https://spark.apache.org/docs/2.4.0/api/python/pyspark.html#pyspark.RDD.count) them."
   ]
  },
  {
   "cell_type": "code",
   "execution_count": 19,
   "metadata": {},
   "outputs": [
    {
     "data": {
      "text/plain": [
       "2353"
      ]
     },
     "execution_count": 19,
     "metadata": {},
     "output_type": "execute_result"
    }
   ],
   "source": [
    "dataset = sc.parallelize(list(range(10000,50001)),8)\n",
    "dataset = dataset.map(lambda x: x+134)\n",
    "dataset = dataset.filter(lambda x: x%17==0)\n",
    "dataset.collect()\n",
    "dataset.count()"
   ]
  },
  {
   "cell_type": "markdown",
   "metadata": {},
   "source": [
    "## Part 1.2 The execution model"
   ]
  },
  {
   "cell_type": "markdown",
   "metadata": {},
   "source": [
    "Pyspark uses multiple processes for parellization as CPython lacks native threading.\n",
    "\n",
    "Although possible, shared memory is not used, which means all processes are unique and data which resides in the driver is copied when needed, and state is not transfered"
   ]
  },
  {
   "cell_type": "code",
   "execution_count": 20,
   "metadata": {},
   "outputs": [],
   "source": [
    "import random"
   ]
  },
  {
   "cell_type": "code",
   "execution_count": 21,
   "metadata": {},
   "outputs": [
    {
     "name": "stdout",
     "output_type": "stream",
     "text": [
      "71037547\n",
      "71039990\n",
      "71039577\n"
     ]
    }
   ],
   "source": [
    "for i in range(3):\n",
    "    random.seed(1)\n",
    "    print(dataset.map(lambda x: x+random.randint(0,100)).sum())"
   ]
  },
  {
   "cell_type": "markdown",
   "metadata": {},
   "source": [
    "Exepected output above is 3 different values, as the random state from the driver is not copied to the executor."
   ]
  },
  {
   "cell_type": "markdown",
   "metadata": {},
   "source": [
    "Now we will attempt to make it predictable, by seeding in each process and using a function instead of a lambda.\n",
    "\n",
    "In addition, the code below will not return all values, instead it will compute a single sum within each partition."
   ]
  },
  {
   "cell_type": "code",
   "execution_count": 22,
   "metadata": {},
   "outputs": [
    {
     "name": "stdout",
     "output_type": "stream",
     "text": [
      "71039167\n",
      "71039167\n",
      "71039167\n"
     ]
    }
   ],
   "source": [
    "def predictable_map_partition(indx, partition):\n",
    "    # Whatever code you write here, will run in the executor\n",
    "    random.seed(indx)\n",
    "    return [sum(x+random.randint(0,100) for x in partition)]\n",
    "\n",
    "for i in range(3):\n",
    "    print(dataset.mapPartitionsWithIndex(predictable_map_partition).sum())"
   ]
  },
  {
   "cell_type": "markdown",
   "metadata": {},
   "source": [
    "The output of above is predictable as each partition will be seeded in a predictable manner."
   ]
  },
  {
   "cell_type": "markdown",
   "metadata": {},
   "source": [
    "## Part 1.3 Sharing read-only data between executors"
   ]
  },
  {
   "cell_type": "markdown",
   "metadata": {},
   "source": [
    "It is not uncommon to need some data to be shared between executors.\n",
    "\n",
    "Common use cases are:\n",
    " * Sets/Dictionaries for fast in-memory lookup\n",
    " * User-defined objects which contains parameters for the algorithm that should be parallelized\n",
    " * General in-memory objects which are used frequently but never modified. These objects might have expensive intialization (such as loading a model, etc.)"
   ]
  },
  {
   "cell_type": "markdown",
   "metadata": {},
   "source": [
    "Data is shared using a mechanism called *[Broadcasts](https://spark.apache.org/docs/2.4.0/api/python/pyspark.html#pyspark.Broadcast)*, these are serialized objects which are distributed efficiently and shared across muliple calls within a pipeline.\n",
    "\n",
    "```pickle```is used to serialize objects to transmit over network or locally to executor processes."
   ]
  },
  {
   "cell_type": "code",
   "execution_count": 23,
   "metadata": {},
   "outputs": [],
   "source": [
    "lookup = sc.broadcast({\"a\": \"x\", \"b\":\"y\", \"c\": \"z\"})"
   ]
  },
  {
   "cell_type": "code",
   "execution_count": 24,
   "metadata": {},
   "outputs": [
    {
     "data": {
      "text/plain": [
       "['xyz', 'def']"
      ]
     },
     "execution_count": 24,
     "metadata": {},
     "output_type": "execute_result"
    }
   ],
   "source": [
    "sc.parallelize([\"abc\", \"def\"],1).map(lambda x: \"\".join([lookup.value.get(ch,ch) for ch in x])).collect()"
   ]
  },
  {
   "cell_type": "code",
   "execution_count": 25,
   "metadata": {},
   "outputs": [
    {
     "data": {
      "text/plain": [
       "['def']"
      ]
     },
     "execution_count": 25,
     "metadata": {},
     "output_type": "execute_result"
    }
   ],
   "source": [
    "setlookup = sc.broadcast(set([\"def\"]))\n",
    "sc.parallelize([\"abc\", \"def\"],1).filter(lambda x: x in setlookup.value).collect()"
   ]
  },
  {
   "cell_type": "markdown",
   "metadata": {},
   "source": [
    "## Part 1.4: Real data"
   ]
  },
  {
   "cell_type": "markdown",
   "metadata": {},
   "source": [
    "We will be using a 1% sample of all paragraphs in English Wikipedia from October 2018.\n",
    "\n",
    "The data has been segmented in advance, the following specifics apply:\n",
    " \n",
    " * Tokens/Words are seperated by space ' '\n",
    " * Sentences are seperated by tab characters, '\\t'\n",
    " * Paragraphs are seperated by newlines, which means that each entry is a full paragraph."
   ]
  },
  {
   "cell_type": "code",
   "execution_count": 26,
   "metadata": {},
   "outputs": [],
   "source": [
    "paragraphs = sc.textFile(pyspark_path(ENWIKI_1P_PATH))"
   ]
  },
  {
   "cell_type": "markdown",
   "metadata": {},
   "source": [
    "**Task 9**: Display the first 5 paragraphs"
   ]
  },
  {
   "cell_type": "code",
   "execution_count": 27,
   "metadata": {},
   "outputs": [
    {
     "data": {
      "text/plain": [
       "['The 1998 Australian Touring Car Championship was an Australian motor racing competition open to 5.0 Litre Touring Cars , ( also known as V8 Supercars ) .\\tThe championship , which was sanctioned by the Confederation of Australian Motor Sport as an Australian title , was contested over a ten - round series which began on 1 February 1998 at Sandown International Motor Raceway and ended on 2 August at Oran Park International Raceway .\\tThe series was promoted as the \" Shell Australian Touring Car Championship \" .\\tThe title , which was the 39 th Australian Touring Car Championship , was won by Craig Lowndes .',\n",
       " \"The following table lists all the games played by the Brazil women 's national football team in official competitions and friendly matches during 1998 .\",\n",
       " 'Alf Collett ( 8 August 1844-12 June 1919 ) was a Norwegian writer and historian .',\n",
       " 'It has naturalized in the United States , Canada , and Russian Far East .',\n",
       " 'Major disruptions to air travel in the 21 st century included the closing of U.S. airspace due to the September 11 attacks , and the closing of most of European airspace after the 2010 eruption of Eyjafjallajökull .']"
      ]
     },
     "execution_count": 27,
     "metadata": {},
     "output_type": "execute_result"
    }
   ],
   "source": [
    "paragraphs.take(5)"
   ]
  },
  {
   "cell_type": "markdown",
   "metadata": {},
   "source": [
    "**Task 10.** Count the number of paragraphs"
   ]
  },
  {
   "cell_type": "code",
   "execution_count": 28,
   "metadata": {},
   "outputs": [
    {
     "data": {
      "text/plain": [
       "355520"
      ]
     },
     "execution_count": 28,
     "metadata": {},
     "output_type": "execute_result"
    }
   ],
   "source": [
    "paragraphs.count()"
   ]
  },
  {
   "cell_type": "markdown",
   "metadata": {},
   "source": [
    "**Task 11:** [Sample](https://spark.apache.org/docs/2.4.0/api/python/pyspark.html#pyspark.RDD.sample) 1% of these paragraphs, and display the first 5\n",
    "\n",
    "The use-case of sampling is to speed up testing, getting a downsampled version of the dataset retains the statistical properties.\n",
    "\n",
    "Please use sampling if execution times are too long. Another tip is to cache the 1% sample in memory for even better performance using [cache()](https://spark.apache.org/docs/2.4.0/api/python/pyspark.html#pyspark.RDD.cache), more fingrained caching can be controlled using [persist()](https://spark.apache.org/docs/2.4.0/api/python/pyspark.html#pyspark.RDD.persist) and [StorageLevels](https://spark.apache.org/docs/2.4.0/api/python/pyspark.html#pyspark.StorageLevel)"
   ]
  },
  {
   "cell_type": "code",
   "execution_count": 29,
   "metadata": {},
   "outputs": [
    {
     "data": {
      "text/plain": [
       "['These municipalities were merged with neighbouring ones :',\n",
       " '\" Mbnomics \" is the term applied to Lee \\'s macroeconomic policy .\\tThe term is a portmanteau derived by combining his initials ( Myung - bak , Mb ) and the term economics ( - nomics ) to form \" Mbnomics \" .\\tKang Man - Soo , the Minister of Strategy and Finance , is credited with coining the term and the design of Mbnomics .',\n",
       " 'Also , at the turn of the century , Vishnu Digambar Paluskar and Vishnu Narayan Bhatkhande spread Hindustani classical music to the masses in general , and the Marathi middle class in particular .\\tThese two gentlemen brought classical music to the masses by organizing music conferences , starting schools , teaching music in class - rooms , and devising a standardized grading and testing system , and by standardizing the notation system .',\n",
       " 'It was said that he walked barefoot regardless of the weather conditions and also refrained from consuming both meat and wine .\\tFra Filippo Albrizzi wrote : \" He was a priest of great holiness .\\tHis beard was unkempt ; his feet were bare suffering the heat of summer and the freezing cold of winter .\\tHe never wore shoes and his feet were often seen to be bleeding \" .\\tTornielli also slept either on the floor or on a bed of wooden planks .',\n",
       " 'Wallace was later attached to Emperor of Russia during his visit to England , 1909 , then was Extra Groom - in - Waiting to Emperor Edward VII , 1909–10 , and to Emperor George V from 1910 .\\tHe was knighted as a Knight Commander of the Order of the Indian Empire ( KCIE ) for his services to India in 1888 , and subsequently appointed a Knight Commander of the Royal Victorian Order ( KCVO ) for his services during the Commonwealth tour in 1901 .']"
      ]
     },
     "execution_count": 29,
     "metadata": {},
     "output_type": "execute_result"
    }
   ],
   "source": [
    "paragraphs.sample(False, 0.01, random.randint(0,10000)).take(5)"
   ]
  },
  {
   "cell_type": "markdown",
   "metadata": {},
   "source": [
    "## Part 2: Preprocessing"
   ]
  },
  {
   "cell_type": "markdown",
   "metadata": {},
   "source": [
    "The objective of this part is to count words by doing the following parts:\n",
    "    \n",
    " * Convert paragraphs into tokens\n",
    " * Normalize tokens into lowercase\n",
    " * Count per token\n",
    " * Sort and retrieve the top 10000 words in the provided dataset"
   ]
  },
  {
   "cell_type": "markdown",
   "metadata": {},
   "source": [
    "**Task 12**: Split paragraphs into tokens using [flatMap](https://spark.apache.org/docs/2.4.0/api/python/pyspark.html#pyspark.RDD.flatMap), display first 10 tokens"
   ]
  },
  {
   "cell_type": "code",
   "execution_count": 30,
   "metadata": {},
   "outputs": [],
   "source": [
    "paragraphs = paragraphs.flatMap(lambda x: x.split())"
   ]
  },
  {
   "cell_type": "markdown",
   "metadata": {},
   "source": [
    "**Task 13:** Lower-case the tokens, display first 10 tokens"
   ]
  },
  {
   "cell_type": "code",
   "execution_count": 31,
   "metadata": {},
   "outputs": [],
   "source": [
    "paragraphs = paragraphs.map(lambda x: x.lower())"
   ]
  },
  {
   "cell_type": "markdown",
   "metadata": {},
   "source": [
    "*Remember* you can use a 1% sample during testing\n",
    "\n",
    "**Task 14:** Count tokens using *map* and [reduceByKey](https://spark.apache.org/docs/2.4.0/api/python/pyspark.html#pyspark.RDD.reduceByKey), filter out ```sweden, lund, skåne, learning, spark```, and display counts for these."
   ]
  },
  {
   "cell_type": "code",
   "execution_count": 32,
   "metadata": {},
   "outputs": [
    {
     "name": "stdout",
     "output_type": "stream",
     "text": [
      "[('skåne', 13), ('sweden', 1259), ('lund', 70), ('spark', 134), ('learning', 1479)]\n"
     ]
    }
   ],
   "source": [
    "paragraphTokens = paragraphs.map(lambda x: (x, 1))\n",
    "paragraphTokenCount = paragraphTokens.reduceByKey(add)\n",
    "paragraphTokenFiltered = paragraphTokenCount.filter(lambda x: x[0] in [\"skåne\", \"sweden\", \"lund\", \"learning\", \"spark\"])\n",
    "print(paragraphTokenFiltered.collect())"
   ]
  },
  {
   "cell_type": "markdown",
   "metadata": {},
   "source": [
    "**Task 15:** Count the total number of tokens in the corpus"
   ]
  },
  {
   "cell_type": "code",
   "execution_count": 33,
   "metadata": {},
   "outputs": [
    {
     "name": "stdout",
     "output_type": "stream",
     "text": [
      "24358463\n"
     ]
    }
   ],
   "source": [
    "sum = paragraphTokenCount.map(lambda x: x[1]).reduce(add)\n",
    "print(sum)"
   ]
  },
  {
   "cell_type": "markdown",
   "metadata": {},
   "source": [
    "**Task 16:** Take the top 10 000 most frequent tokens using [takeOrdered](https://spark.apache.org/docs/2.4.0/api/python/pyspark.html#pyspark.RDD.takeOrdered).\n",
    "\n",
    "Save the result in a variable called ```top10000```"
   ]
  },
  {
   "cell_type": "code",
   "execution_count": 34,
   "metadata": {},
   "outputs": [],
   "source": [
    "top10000 = paragraphTokenCount.takeOrdered(10000, key=lambda x: -x[1])"
   ]
  },
  {
   "cell_type": "code",
   "execution_count": 35,
   "metadata": {},
   "outputs": [
    {
     "data": {
      "text/plain": [
       "(',', 1210718)"
      ]
     },
     "execution_count": 35,
     "metadata": {},
     "output_type": "execute_result"
    }
   ],
   "source": [
    "len(top10000)\n",
    "top10000[1]"
   ]
  },
  {
   "cell_type": "markdown",
   "metadata": {},
   "source": [
    "## Part 3: Process Glove, and extract the embeddings for the top 10000 words"
   ]
  },
  {
   "cell_type": "markdown",
   "metadata": {},
   "source": [
    "The objective of this part is:\n",
    "\n",
    " * Parse the Glove 6B embedding\n",
    " * Filter out only the embeddings matching words that exists in the top 10 000 words.\n",
    " * Produce the X which we will cluster"
   ]
  },
  {
   "cell_type": "markdown",
   "metadata": {},
   "source": [
    "**Task 17:** Load Glove 6B 100d embeddings into a variable ```glove6B```"
   ]
  },
  {
   "cell_type": "code",
   "execution_count": 43,
   "metadata": {},
   "outputs": [],
   "source": [
    "glove = open(GLOVE_6B_100D_PATH)\n",
    "embeddings ={}\n",
    "for line in glove:\n",
    "    values = line.strip().split()\n",
    "    word = values[0]\n",
    "    vector = np.array(values[1:], dtype='float32')\n",
    "    embeddings[word] = vector\n",
    "glove.close()\n",
    "glove6B = embeddings\n",
    "\n",
    "emb_dict = sc.parallelize(glove6B,8)\n"
   ]
  },
  {
   "cell_type": "markdown",
   "metadata": {},
   "source": [
    "**Task 18:** Count the number of embeddings and print the first 5"
   ]
  },
  {
   "cell_type": "code",
   "execution_count": 44,
   "metadata": {},
   "outputs": [
    {
     "name": "stdout",
     "output_type": "stream",
     "text": [
      "400000\n"
     ]
    }
   ],
   "source": [
    "print(len(emb_dict.collect()))\n"
   ]
  },
  {
   "cell_type": "code",
   "execution_count": 45,
   "metadata": {},
   "outputs": [
    {
     "data": {
      "text/plain": [
       "['the', ',', '.', 'of', 'to']"
      ]
     },
     "execution_count": 45,
     "metadata": {},
     "output_type": "execute_result"
    }
   ],
   "source": [
    "emb_dict.take(5)"
   ]
  },
  {
   "cell_type": "markdown",
   "metadata": {},
   "source": [
    "**Task 18:** Parse the embedding by using a function which splits the input into tuples of (word, embedding), display the first 5"
   ]
  },
  {
   "cell_type": "code",
   "execution_count": 46,
   "metadata": {},
   "outputs": [],
   "source": [
    "emb_dict2 = emb_dict.map(lambda x: (x, embeddings[x]))"
   ]
  },
  {
   "cell_type": "code",
   "execution_count": 47,
   "metadata": {},
   "outputs": [
    {
     "data": {
      "text/plain": [
       "[('the',\n",
       "  array([-0.038194, -0.24487 ,  0.72812 , -0.39961 ,  0.083172,  0.043953,\n",
       "         -0.39141 ,  0.3344  , -0.57545 ,  0.087459,  0.28787 , -0.06731 ,\n",
       "          0.30906 , -0.26384 , -0.13231 , -0.20757 ,  0.33395 , -0.33848 ,\n",
       "         -0.31743 , -0.48336 ,  0.1464  , -0.37304 ,  0.34577 ,  0.052041,\n",
       "          0.44946 , -0.46971 ,  0.02628 , -0.54155 , -0.15518 , -0.14107 ,\n",
       "         -0.039722,  0.28277 ,  0.14393 ,  0.23464 , -0.31021 ,  0.086173,\n",
       "          0.20397 ,  0.52624 ,  0.17164 , -0.082378, -0.71787 , -0.41531 ,\n",
       "          0.20335 , -0.12763 ,  0.41367 ,  0.55187 ,  0.57908 , -0.33477 ,\n",
       "         -0.36559 , -0.54857 , -0.062892,  0.26584 ,  0.30205 ,  0.99775 ,\n",
       "         -0.80481 , -3.0243  ,  0.01254 , -0.36942 ,  2.2167  ,  0.72201 ,\n",
       "         -0.24978 ,  0.92136 ,  0.034514,  0.46745 ,  1.1079  , -0.19358 ,\n",
       "         -0.074575,  0.23353 , -0.052062, -0.22044 ,  0.057162, -0.15806 ,\n",
       "         -0.30798 , -0.41625 ,  0.37972 ,  0.15006 , -0.53212 , -0.2055  ,\n",
       "         -1.2526  ,  0.071624,  0.70565 ,  0.49744 , -0.42063 ,  0.26148 ,\n",
       "         -1.538   , -0.30223 , -0.073438, -0.28312 ,  0.37104 , -0.25217 ,\n",
       "          0.016215, -0.017099, -0.38984 ,  0.87424 , -0.72569 , -0.51058 ,\n",
       "         -0.52028 , -0.1459  ,  0.8278  ,  0.27062 ], dtype=float32)),\n",
       " (',', array([-0.10767  ,  0.11053  ,  0.59812  , -0.54361  ,  0.67396  ,\n",
       "          0.10663  ,  0.038867 ,  0.35481  ,  0.06351  , -0.094189 ,\n",
       "          0.15786  , -0.81665  ,  0.14172  ,  0.21939  ,  0.58505  ,\n",
       "         -0.52158  ,  0.22783  , -0.16642  , -0.68228  ,  0.3587   ,\n",
       "          0.42568  ,  0.19021  ,  0.91963  ,  0.57555  ,  0.46185  ,\n",
       "          0.42363  , -0.095399 , -0.42749  , -0.16567  , -0.056842 ,\n",
       "         -0.29595  ,  0.26037  , -0.26606  , -0.070404 , -0.27662  ,\n",
       "          0.15821  ,  0.69825  ,  0.43081  ,  0.27952  , -0.45437  ,\n",
       "         -0.33801  , -0.58184  ,  0.22364  , -0.5778   , -0.26862  ,\n",
       "         -0.20425  ,  0.56394  , -0.58524  , -0.14365  , -0.64218  ,\n",
       "          0.0054697, -0.35248  ,  0.16162  ,  1.1796   , -0.47674  ,\n",
       "         -2.7553   , -0.1321   , -0.047729 ,  1.0655   ,  1.1034   ,\n",
       "         -0.2208   ,  0.18669  ,  0.13177  ,  0.15117  ,  0.7131   ,\n",
       "         -0.35215  ,  0.91348  ,  0.61783  ,  0.70992  ,  0.23955  ,\n",
       "         -0.14571  , -0.37859  , -0.045959 , -0.47368  ,  0.2385   ,\n",
       "          0.20536  , -0.18996  ,  0.32507  , -1.1112   , -0.36341  ,\n",
       "          0.98679  , -0.084776 , -0.54008  ,  0.11726  , -1.0194   ,\n",
       "         -0.24424  ,  0.12771  ,  0.013884 ,  0.080374 , -0.35414  ,\n",
       "          0.34951  , -0.7226   ,  0.37549  ,  0.4441   , -0.99059  ,\n",
       "          0.61214  , -0.35111  , -0.83155  ,  0.45293  ,  0.082577 ],\n",
       "        dtype=float32)),\n",
       " ('.', array([-0.33979  ,  0.20941  ,  0.46348  , -0.64792  , -0.38377  ,\n",
       "          0.038034 ,  0.17127  ,  0.15978  ,  0.46619  , -0.019169 ,\n",
       "          0.41479  , -0.34349  ,  0.26872  ,  0.04464  ,  0.42131  ,\n",
       "         -0.41032  ,  0.15459  ,  0.022239 , -0.64653  ,  0.25256  ,\n",
       "          0.043136 , -0.19445  ,  0.46516  ,  0.45651  ,  0.68588  ,\n",
       "          0.091295 ,  0.21875  , -0.70351  ,  0.16785  , -0.35079  ,\n",
       "         -0.12634  ,  0.66384  , -0.2582   ,  0.036542 , -0.13605  ,\n",
       "          0.40253  ,  0.14289  ,  0.38132  , -0.12283  , -0.45886  ,\n",
       "         -0.25282  , -0.30432  , -0.11215  , -0.26182  , -0.22482  ,\n",
       "         -0.44554  ,  0.2991   , -0.85612  , -0.14503  , -0.49086  ,\n",
       "          0.0082973, -0.17491  ,  0.27524  ,  1.4401   , -0.21239  ,\n",
       "         -2.8435   , -0.27958  , -0.45722  ,  1.6386   ,  0.78808  ,\n",
       "         -0.55262  ,  0.65     ,  0.086426 ,  0.39012  ,  1.0632   ,\n",
       "         -0.35379  ,  0.48328  ,  0.346    ,  0.84174  ,  0.098707 ,\n",
       "         -0.24213  , -0.27053  ,  0.045287 , -0.40147  ,  0.11395  ,\n",
       "          0.0062226,  0.036673 ,  0.018518 , -1.0213   , -0.20806  ,\n",
       "          0.64072  , -0.068763 , -0.58635  ,  0.33476  , -1.1432   ,\n",
       "         -0.1148   , -0.25091  , -0.45907  , -0.096819 , -0.17946  ,\n",
       "         -0.063351 , -0.67412  , -0.068895 ,  0.53604  , -0.87773  ,\n",
       "          0.31802  , -0.39242  , -0.23394  ,  0.47298  , -0.028803 ],\n",
       "        dtype=float32)),\n",
       " ('of',\n",
       "  array([-0.1529  , -0.24279 ,  0.89837 ,  0.16996 ,  0.53516 ,  0.48784 ,\n",
       "         -0.58826 , -0.17982 , -1.3581  ,  0.42541 ,  0.15377 ,  0.24215 ,\n",
       "          0.13474 ,  0.41193 ,  0.67043 , -0.56418 ,  0.42985 , -0.012183,\n",
       "         -0.11677 ,  0.31781 ,  0.054177, -0.054273,  0.35516 , -0.30241 ,\n",
       "          0.31434 , -0.33846 ,  0.71715 , -0.26855 , -0.15837 , -0.47467 ,\n",
       "          0.051581, -0.33252 ,  0.15003 , -0.1299  , -0.54617 , -0.37843 ,\n",
       "          0.64261 ,  0.82187 , -0.080006,  0.078479, -0.96976 , -0.57741 ,\n",
       "          0.56491 , -0.39873 , -0.057099,  0.19743 ,  0.065706, -0.48092 ,\n",
       "         -0.20125 , -0.40834 ,  0.39456 , -0.02642 , -0.11838 ,  1.012   ,\n",
       "         -0.53171 , -2.7474  , -0.042981, -0.74849 ,  1.7574  ,  0.59085 ,\n",
       "          0.04885 ,  0.78267 ,  0.38497 ,  0.42097 ,  0.67882 ,  0.10337 ,\n",
       "          0.6328  , -0.026595,  0.58647 , -0.44332 ,  0.33057 , -0.12022 ,\n",
       "         -0.55645 ,  0.073611,  0.20915 ,  0.43395 , -0.012761,  0.089874,\n",
       "         -1.7991  ,  0.084808,  0.77112 ,  0.63105 , -0.90685 ,  0.60326 ,\n",
       "         -1.7515  ,  0.18596 , -0.50687 , -0.70203 ,  0.66578 , -0.81304 ,\n",
       "          0.18712 , -0.018488, -0.26757 ,  0.727   , -0.59363 , -0.34839 ,\n",
       "         -0.56094 , -0.591   ,  1.0039  ,  0.20664 ], dtype=float32)),\n",
       " ('to', array([-1.8970e-01,  5.0024e-02,  1.9084e-01, -4.9184e-02, -8.9737e-02,\n",
       "          2.1006e-01, -5.4952e-01,  9.8377e-02, -2.0135e-01,  3.4241e-01,\n",
       "         -9.2677e-02,  1.6100e-01, -1.3268e-01, -2.8160e-01,  1.8737e-01,\n",
       "         -4.2959e-01,  9.6039e-01,  1.3972e-01, -1.0781e+00,  4.0518e-01,\n",
       "          5.0539e-01, -5.5064e-01,  4.8440e-01,  3.8044e-01, -2.9055e-03,\n",
       "         -3.4942e-01, -9.9696e-02, -7.8368e-01,  1.0363e+00, -2.3140e-01,\n",
       "         -4.7121e-01,  5.7126e-01, -2.1454e-01,  3.5958e-01, -4.8319e-01,\n",
       "          1.0875e+00,  2.8524e-01,  1.2447e-01, -3.9248e-02, -7.6732e-02,\n",
       "         -7.6343e-01, -3.2409e-01, -5.7490e-01, -1.0893e+00, -4.1811e-01,\n",
       "          4.5120e-01,  1.2112e-01, -5.1367e-01, -1.3349e-01, -1.1378e+00,\n",
       "         -2.8768e-01,  1.6774e-01,  5.5804e-01,  1.5387e+00,  1.8859e-02,\n",
       "         -2.9721e+00, -2.4216e-01, -9.2495e-01,  2.1992e+00,  2.8234e-01,\n",
       "         -3.4780e-01,  5.1621e-01, -4.3387e-01,  3.6852e-01,  7.4573e-01,\n",
       "          7.2102e-02,  2.7931e-01,  9.2569e-01, -5.0336e-02, -8.5856e-01,\n",
       "         -1.3580e-01, -9.2551e-01, -3.3991e-01, -1.0394e+00, -6.7203e-02,\n",
       "         -2.1379e-01, -4.7690e-01,  2.1377e-01, -8.4008e-01,  5.2536e-02,\n",
       "          5.9298e-01,  2.9604e-01, -6.7644e-01,  1.3916e-01, -1.5504e+00,\n",
       "         -2.0765e-01,  7.2220e-01,  5.2056e-01, -7.6221e-02, -1.5194e-01,\n",
       "         -1.3134e-01,  5.8617e-02, -3.1869e-01, -6.1419e-01, -6.2393e-01,\n",
       "         -4.1548e-01, -3.8175e-02, -3.9804e-01,  4.7647e-01, -1.5983e-01],\n",
       "        dtype=float32))]"
      ]
     },
     "execution_count": 47,
     "metadata": {},
     "output_type": "execute_result"
    }
   ],
   "source": [
    "emb_dict2.take(5)"
   ]
  },
  {
   "cell_type": "markdown",
   "metadata": {},
   "source": [
    "**Task 19:** Filter out the top 10000 embeddings using the provided broadcast ```top10000_set``` which uses the previous ```top10000```variable and use [collectAsMap](https://spark.apache.org/docs/2.4.0/api/python/pyspark.html#pyspark.RDD.collectAsMap) to get a dictionary of the words"
   ]
  },
  {
   "cell_type": "code",
   "execution_count": 48,
   "metadata": {},
   "outputs": [],
   "source": [
    "top10000_set = sc.broadcast(set([word for word, cnt in top10000]))"
   ]
  },
  {
   "cell_type": "code",
   "execution_count": 49,
   "metadata": {},
   "outputs": [],
   "source": [
    "top10000_emb = emb_dict2.filter(lambda x: x in top10000_set.value).collectAsMap()"
   ]
  },
  {
   "cell_type": "markdown",
   "metadata": {},
   "source": [
    "Not all 10 000 words exists in Glove, **9 962** is the expected count"
   ]
  },
  {
   "cell_type": "code",
   "execution_count": 50,
   "metadata": {},
   "outputs": [
    {
     "ename": "TypeError",
     "evalue": "object of type 'PipelinedRDD' has no len()",
     "output_type": "error",
     "traceback": [
      "\u001b[0;31m---------------------------------------------------------------------------\u001b[0m",
      "\u001b[0;31mTypeError\u001b[0m                                 Traceback (most recent call last)",
      "\u001b[0;32m<ipython-input-50-50257ba9a53c>\u001b[0m in \u001b[0;36m<module>\u001b[0;34m()\u001b[0m\n\u001b[0;32m----> 1\u001b[0;31m \u001b[0mlen\u001b[0m\u001b[0;34m(\u001b[0m\u001b[0mtop10000_emb\u001b[0m\u001b[0;34m)\u001b[0m\u001b[0;34m\u001b[0m\u001b[0m\n\u001b[0m",
      "\u001b[0;31mTypeError\u001b[0m: object of type 'PipelinedRDD' has no len()"
     ]
    }
   ],
   "source": [
    "len(top10000_emb)"
   ]
  },
  {
   "cell_type": "markdown",
   "metadata": {},
   "source": [
    "**Task 20:** Produce the X that we will cluster.\n",
    "\n",
    "1. Produce a sorted list of tokens\n",
    "2. Transform list into a list of embeddings and create a numpy array from it"
   ]
  },
  {
   "cell_type": "code",
   "execution_count": null,
   "metadata": {},
   "outputs": [],
   "source": [
    "tokens = top10000_emb.map(lambda x: "
   ]
  },
  {
   "cell_type": "code",
   "execution_count": null,
   "metadata": {},
   "outputs": [],
   "source": [
    "X = #TODO"
   ]
  },
  {
   "cell_type": "markdown",
   "metadata": {},
   "source": [
    "## Part 4: Cluster X using KMeans and visualize the results\n",
    "\n",
    " * Cluster these embeddings into 100 clusters using [KMeans](https://scikit-learn.org/stable/modules/generated/sklearn.cluster.KMeans.html#sklearn.cluster.KMeans) from scikit-learn\n",
    " * Visualize the results"
   ]
  },
  {
   "cell_type": "code",
   "execution_count": null,
   "metadata": {},
   "outputs": [],
   "source": [
    "from sklearn.manifold import TSNE\n",
    "from sklearn.cluster import KMeans"
   ]
  },
  {
   "cell_type": "code",
   "execution_count": null,
   "metadata": {},
   "outputs": [],
   "source": [
    "kmeans = KMeans(n_clusters=100, n_jobs=-1, random_state=2018)"
   ]
  },
  {
   "cell_type": "code",
   "execution_count": null,
   "metadata": {},
   "outputs": [],
   "source": [
    "kmeans.fit(X)"
   ]
  },
  {
   "cell_type": "markdown",
   "metadata": {},
   "source": [
    "The code below computes the score which follows this equation:\n",
    "\n",
    "\\begin{equation*}\n",
    "-\\sum_{i=1}^n (\\sum_{k=1}^{100} (x_{i,k} - {xc}_{i,k})^2)\n",
    "\\end{equation*}\n",
    "\n",
    "Where $x$ is the embedding, $xc$ is the assigned cluster center.\n",
    "\n",
    "*In words:* It is the negative sum of squared differences per dimension (100d)."
   ]
  },
  {
   "cell_type": "code",
   "execution_count": null,
   "metadata": {},
   "outputs": [],
   "source": [
    "kmeans.score(X)"
   ]
  },
  {
   "cell_type": "markdown",
   "metadata": {},
   "source": [
    "**Task 21:** Predict clusters, the output will be indicies. You will find how in the documentation of [KMeans](https://scikit-learn.org/stable/modules/generated/sklearn.cluster.KMeans.html#sklearn.cluster.KMeans)."
   ]
  },
  {
   "cell_type": "code",
   "execution_count": null,
   "metadata": {},
   "outputs": [],
   "source": [
    "X_clusters = #TODO"
   ]
  },
  {
   "cell_type": "code",
   "execution_count": null,
   "metadata": {},
   "outputs": [],
   "source": [
    "X_clusters[0:10]"
   ]
  },
  {
   "cell_type": "markdown",
   "metadata": {},
   "source": [
    "**Task 22:** Create mapping from word to cluster"
   ]
  },
  {
   "cell_type": "code",
   "execution_count": null,
   "metadata": {},
   "outputs": [],
   "source": [
    "#TODO"
   ]
  },
  {
   "cell_type": "markdown",
   "metadata": {},
   "source": [
    "**Task 23:** Create mapping from cluster to all words in cluster"
   ]
  },
  {
   "cell_type": "code",
   "execution_count": null,
   "metadata": {},
   "outputs": [],
   "source": [
    "#TODO"
   ]
  },
  {
   "cell_type": "markdown",
   "metadata": {},
   "source": [
    "**Task 24**: Create a list of all cluster sizes, i.e. the number of words in each cluster"
   ]
  },
  {
   "cell_type": "code",
   "execution_count": null,
   "metadata": {},
   "outputs": [],
   "source": [
    "cluster_size = #TODO"
   ]
  },
  {
   "cell_type": "markdown",
   "metadata": {},
   "source": [
    "Plot the histogram"
   ]
  },
  {
   "cell_type": "code",
   "execution_count": null,
   "metadata": {},
   "outputs": [],
   "source": [
    "plt.hist(np.array(cluster_size))"
   ]
  },
  {
   "cell_type": "markdown",
   "metadata": {},
   "source": [
    "**Optionally:** Look at the words in the smallest and largest cluster, do you see any structure?"
   ]
  },
  {
   "cell_type": "markdown",
   "metadata": {},
   "source": [
    "**Task 25:** Implement the get_nearby function"
   ]
  },
  {
   "cell_type": "code",
   "execution_count": null,
   "metadata": {},
   "outputs": [],
   "source": [
    "def get_nearby(word):\n",
    "    \"\"\"\n",
    "    Get all words from the same cluster as the input\n",
    "    \n",
    "    Returns: list of words having the same cluster\"\"\"\n",
    "    \n",
    "    return #TODO"
   ]
  },
  {
   "cell_type": "code",
   "execution_count": null,
   "metadata": {},
   "outputs": [],
   "source": [
    "get_nearby(\"sweden\")"
   ]
  },
  {
   "cell_type": "code",
   "execution_count": null,
   "metadata": {},
   "outputs": [],
   "source": [
    "words = [\"king\", \"sweden\", \"obama\", \"home\", \"learning\"]\n",
    "clusters = [get_nearby(word) for word in words]\n",
    "cluster_colors = [\"red\", \"green\", \"blue\", \"purple\", \"teal\"] # HTML colors are allowed inside here."
   ]
  },
  {
   "cell_type": "markdown",
   "metadata": {},
   "source": [
    "Flatten words and clusters"
   ]
  },
  {
   "cell_type": "code",
   "execution_count": null,
   "metadata": {},
   "outputs": [],
   "source": [
    "all_words = [word for cluster in clusters for word in cluster]\n",
    "all_cluster_color = [\n",
    "    cluster_color for cluster_color_array in \n",
    "    (\n",
    "        [color] * len(cluster)\n",
    "        for cluster, color in \n",
    "        zip(clusters, cluster_colors)\n",
    "    )\n",
    "    for cluster_color\n",
    "    in cluster_color_array\n",
    "]"
   ]
  },
  {
   "cell_type": "markdown",
   "metadata": {},
   "source": [
    "**Task 26:** Use ```all_words``` and translate into a numpy array called ```X_words``` of all embeddings"
   ]
  },
  {
   "cell_type": "code",
   "execution_count": null,
   "metadata": {},
   "outputs": [],
   "source": [
    "X_words = #TODO"
   ]
  },
  {
   "cell_type": "markdown",
   "metadata": {},
   "source": [
    "[**TSNE**](https://scikit-learn.org/stable/modules/generated/sklearn.manifold.TSNE.html#sklearn.manifold.TSNE) is a dimensionality reduction algorithm useful for projecting high dimensional data into a low dimensional space such as 2D, which we can plot and more easily understand spatially."
   ]
  },
  {
   "cell_type": "code",
   "execution_count": null,
   "metadata": {},
   "outputs": [],
   "source": [
    "tsne = TSNE(n_components=2, random_state=2018)"
   ]
  },
  {
   "cell_type": "code",
   "execution_count": null,
   "metadata": {},
   "outputs": [],
   "source": [
    "X_pos = tsne.fit_transform(X_words)"
   ]
  },
  {
   "cell_type": "markdown",
   "metadata": {},
   "source": [
    "The code below makes a large plot using Matplotlib and attaches labels to all points. It provided for reference and a fallback if the more advanced visualization fails."
   ]
  },
  {
   "cell_type": "code",
   "execution_count": null,
   "metadata": {},
   "outputs": [],
   "source": [
    "# Visualize using matplotlib and produce an image of the points and words\n",
    "labels = all_words\n",
    "x = []\n",
    "y = []\n",
    "for x_val,y_val in X_pos:\n",
    "    x.append(x_val)\n",
    "    y.append(y_val)\n",
    "\n",
    "plt.figure(figsize=(32, 32)) \n",
    "for i in range(len(x)):\n",
    "    plt.scatter(x[i],y[i])\n",
    "    plt.annotate(labels[i],\n",
    "                 xy=(x[i], y[i]),\n",
    "                 xytext=(5, 2),\n",
    "                 textcoords='offset points',\n",
    "                 ha='right',\n",
    "                 va='bottom')\n",
    "plt.show()"
   ]
  },
  {
   "cell_type": "markdown",
   "metadata": {},
   "source": [
    "### Interactive Visualization: D3.js\n",
    "The cells below will produce a HTML file that has the previously plotted image embedded as JSON.\n",
    "\n",
    "The code below is provided for visualization purposes: to understand it is not a requirement.\n",
    "\n",
    "The standard output is ```visualize.html```"
   ]
  },
  {
   "cell_type": "code",
   "execution_count": null,
   "metadata": {},
   "outputs": [],
   "source": [
    "import json"
   ]
  },
  {
   "cell_type": "code",
   "execution_count": null,
   "metadata": {},
   "outputs": [],
   "source": [
    "# Scale to fit box of dimensions below\n",
    "WIDTH = 768.0\n",
    "HEIGHT = 768.0\n",
    "OUTPUT_FILE = \"visualize.html\""
   ]
  },
  {
   "cell_type": "code",
   "execution_count": null,
   "metadata": {},
   "outputs": [],
   "source": [
    "# Run this cell to set the template\n",
    "HTML_TEMPLATE = \"\"\"\n",
    "<!DOCTYPE html>\n",
    "<head>\n",
    "  <style>\n",
    "\n",
    "      html {\n",
    "        font-family: \"Helvetica Neue\", Helvetica, arial, sans-serif;\n",
    "        font-size: 16px;\n",
    "      }\n",
    "\n",
    "      body {\n",
    "        margin: 0;\n",
    "        padding: 0;\n",
    "        width: 100%;\n",
    "        width: 100%;\n",
    "        overflow: hidden;\n",
    "      }\n",
    "\n",
    "      svg {\n",
    "        display: block;\n",
    "        width: 100%;\n",
    "        height: auto;\n",
    "      }\n",
    "\n",
    "      div#container {\n",
    "        overflow: hidden;\n",
    "      }\n",
    "    </style>\n",
    "    <meta charset=\"utf-8\">\n",
    "</head>\n",
    "<body>\n",
    "  <div class=\"container\">\n",
    "<svg width=\"640\" height=\"480\"></svg>\n",
    "<script src=\"https://d3js.org/d3.v4.min.js\"></script>\n",
    "\n",
    "<!-- Here is our data -->\n",
    "<script id=\"raw-data\" language=\"application/json\">\n",
    "__OUTPUT_JSON__\n",
    "</script>\n",
    "<script>\n",
    "\n",
    "// Parse data from tag inside this doucment\n",
    "var inputdata = JSON.parse(document.getElementById('raw-data').innerHTML);\n",
    "\n",
    "var svg = d3.select(\"svg\"),\n",
    "    width = +svg.attr(\"width\"),\n",
    "    height = +svg.attr(\"height\");\n",
    "\n",
    "// Create a dummy array with indicies\n",
    "var indicies = d3.range(inputdata.length);\n",
    "\n",
    "// Produce points with some zoom magic\n",
    "var circle = svg.selectAll(\"circle\")\n",
    "  .data(indicies)\n",
    "  .enter()\n",
    "  .append(\"circle\")\n",
    "    .attr(\"r\", 2.5)\n",
    "    .attr(\"fill\", function(d) {return inputdata[d][\"color\"]})\n",
    "    .attr(\"transform\", transform(d3.zoomIdentity));\n",
    "\n",
    "// Produce labels attached/placed relative to points\n",
    "var lbls = svg.selectAll(\"texts\")\n",
    "                .data(indicies)\n",
    "                .enter()\n",
    "                .append(\"text\")\n",
    "                .text(function(d) {\n",
    "                  return inputdata[d][\"label\"];\n",
    "                })\n",
    "                .attr(\"font-size\", \"15px\")\n",
    "                .attr(\"fill\", function(d) {return inputdata[d][\"color\"]})\n",
    "                .attr(\"transform\", transform(d3.zoomIdentity));\n",
    "\n",
    "// Will recieve index, and produce transform directive for that index\n",
    "function transform(t) {\n",
    "  return function(d) {\n",
    "    return \"translate(\" + t.apply(inputdata[d][\"position\"]) + \")\";\n",
    "  };\n",
    "}\n",
    "\n",
    "// Zoom transformation function\n",
    "function zoom() {\n",
    "  circle.attr(\"transform\", transform(d3.event.transform));\n",
    "  lbls.attr(\"transform\", transform(d3.event.transform));\n",
    "}\n",
    "\n",
    "// Add the zoom handler, that listens to events.\n",
    "svg.append(\"rect\")\n",
    "    .attr(\"fill\", \"none\")\n",
    "    .attr(\"pointer-events\", \"all\")\n",
    "    .attr(\"width\", \"100%\")\n",
    "    .attr(\"height\", \"100%\")\n",
    "    .call(d3.zoom()\n",
    "        .scaleExtent([1, 16]) //The minimum and maximum scale factor \n",
    "        .on(\"zoom\", zoom));\n",
    "\n",
    "</script>\n",
    "</div>\n",
    "</body>\n",
    "</html>\n",
    "\"\"\""
   ]
  },
  {
   "cell_type": "code",
   "execution_count": null,
   "metadata": {},
   "outputs": [],
   "source": [
    "# Find extents\n",
    "x_extents = [min(pos[0] for pos in X_pos), max(pos[0] for pos in X_pos)]\n",
    "y_extents = [min(pos[1] for pos in X_pos), max(pos[1] for pos in X_pos)]\n",
    "\n",
    "# Compute translation\n",
    "translation = [-x_extents[0], -y_extents[0]]\n",
    "\n",
    "# Compute scaling, flip y to match convention that y is down not up.\n",
    "scale = [WIDTH/(x_extents[1]-x_extents[0]), -HEIGHT/(y_extents[1]-y_extents[0])]\n",
    "\n",
    "# Produce JSON dictionary\n",
    "output = []\n",
    "labels = all_words\n",
    "for (x_val, y_val), label, color in zip(X_pos, labels, all_cluster_color):\n",
    "    output.append({\"position\": ((float(x_val)+translation[0])*scale[0], (float(y_val)+translation[1])*scale[1]+HEIGHT), \"label\": label, \"color\": color})\n",
    "\n",
    "# Write HTML file with JSON embedded\n",
    "with open(OUTPUT_FILE, \"w\") as fout:\n",
    "    fout.write(HTML_TEMPLATE.replace(\"__OUTPUT_JSON__\", json.dumps(output)))"
   ]
  },
  {
   "cell_type": "markdown",
   "metadata": {},
   "source": [
    "Open the HTML file in your favorite browser.\n",
    "\n",
    "How to use:\n",
    " * Drag to move the image around\n",
    " * Zoom using the mousewheel, default min and max zoom values have been set.\n",
    "\n",
    "**Note:** *Internet access is required* for the page to work. The page downloads d3.js during start-up from https://d3js.org/d3.v4.min.js"
   ]
  }
 ],
 "metadata": {
  "kernelspec": {
   "display_name": "Python 3",
   "language": "python",
   "name": "python3"
  },
  "language_info": {
   "codemirror_mode": {
    "name": "ipython",
    "version": 3
   },
   "file_extension": ".py",
   "mimetype": "text/x-python",
   "name": "python",
   "nbconvert_exporter": "python",
   "pygments_lexer": "ipython3",
   "version": "3.7.0"
  }
 },
 "nbformat": 4,
 "nbformat_minor": 2
}
